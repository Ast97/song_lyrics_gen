{
  "nbformat": 4,
  "nbformat_minor": 0,
  "metadata": {
    "kernelspec": {
      "display_name": "Python 3",
      "language": "python",
      "name": "python3"
    },
    "language_info": {
      "codemirror_mode": {
        "name": "ipython",
        "version": 3
      },
      "file_extension": ".py",
      "mimetype": "text/x-python",
      "name": "python",
      "nbconvert_exporter": "python",
      "pygments_lexer": "ipython3",
      "version": "3.7.7"
    },
    "colab": {
      "name": "lyrics generator.ipynb",
      "provenance": [],
      "collapsed_sections": []
    },
    "accelerator": "GPU"
  },
  "cells": [
    {
      "cell_type": "code",
      "metadata": {
        "id": "XAiqLJM8BQO1"
      },
      "source": [
        "import pandas as pd\n",
        "import numpy as np\n",
        "import seaborn as sns\n",
        "import matplotlib.pyplot as plt\n",
        "# from wordcloud import WordCloud, STOPWORDS, ImageColorGenerator\n",
        "import string, os \n",
        "import tensorflow as tf\n",
        "\n",
        "# keras module for building LSTM \n",
        "from tensorflow.keras.preprocessing.sequence import pad_sequences\n",
        "from tensorflow.keras.layers import Embedding, Dropout, LSTM, Dense, Bidirectional \n",
        "from tensorflow.keras.preprocessing.text import Tokenizer\n",
        "from tensorflow.keras.callbacks import EarlyStopping\n",
        "from tensorflow.keras.models import Sequential\n",
        "\n",
        "import matplotlib.pyplot as plt\n",
        "import seaborn as sns"
      ],
      "execution_count": 7,
      "outputs": []
    },
    {
      "cell_type": "code",
      "metadata": {
        "colab": {
          "base_uri": "https://localhost:8080/"
        },
        "id": "mTPOBInNGoGr",
        "outputId": "d903ad94-4b42-4499-8d2c-9cb21a7952fc"
      },
      "source": [
        "!pip install tensorflow==2.4.0"
      ],
      "execution_count": 8,
      "outputs": [
        {
          "output_type": "stream",
          "name": "stdout",
          "text": [
            "Requirement already satisfied: tensorflow==2.4.0 in /usr/local/lib/python3.7/dist-packages (2.4.0)\n",
            "Requirement already satisfied: absl-py~=0.10 in /usr/local/lib/python3.7/dist-packages (from tensorflow==2.4.0) (0.12.0)\n",
            "Requirement already satisfied: keras-preprocessing~=1.1.2 in /usr/local/lib/python3.7/dist-packages (from tensorflow==2.4.0) (1.1.2)\n",
            "Requirement already satisfied: opt-einsum~=3.3.0 in /usr/local/lib/python3.7/dist-packages (from tensorflow==2.4.0) (3.3.0)\n",
            "Requirement already satisfied: termcolor~=1.1.0 in /usr/local/lib/python3.7/dist-packages (from tensorflow==2.4.0) (1.1.0)\n",
            "Requirement already satisfied: grpcio~=1.32.0 in /usr/local/lib/python3.7/dist-packages (from tensorflow==2.4.0) (1.32.0)\n",
            "Requirement already satisfied: typing-extensions~=3.7.4 in /usr/local/lib/python3.7/dist-packages (from tensorflow==2.4.0) (3.7.4.3)\n",
            "Requirement already satisfied: protobuf>=3.9.2 in /usr/local/lib/python3.7/dist-packages (from tensorflow==2.4.0) (3.17.3)\n",
            "Requirement already satisfied: tensorflow-estimator<2.5.0,>=2.4.0rc0 in /usr/local/lib/python3.7/dist-packages (from tensorflow==2.4.0) (2.4.0)\n",
            "Requirement already satisfied: numpy~=1.19.2 in /usr/local/lib/python3.7/dist-packages (from tensorflow==2.4.0) (1.19.5)\n",
            "Requirement already satisfied: tensorboard~=2.4 in /usr/local/lib/python3.7/dist-packages (from tensorflow==2.4.0) (2.6.0)\n",
            "Requirement already satisfied: flatbuffers~=1.12.0 in /usr/local/lib/python3.7/dist-packages (from tensorflow==2.4.0) (1.12)\n",
            "Requirement already satisfied: gast==0.3.3 in /usr/local/lib/python3.7/dist-packages (from tensorflow==2.4.0) (0.3.3)\n",
            "Requirement already satisfied: six~=1.15.0 in /usr/local/lib/python3.7/dist-packages (from tensorflow==2.4.0) (1.15.0)\n",
            "Requirement already satisfied: astunparse~=1.6.3 in /usr/local/lib/python3.7/dist-packages (from tensorflow==2.4.0) (1.6.3)\n",
            "Requirement already satisfied: wheel~=0.35 in /usr/local/lib/python3.7/dist-packages (from tensorflow==2.4.0) (0.37.0)\n",
            "Requirement already satisfied: wrapt~=1.12.1 in /usr/local/lib/python3.7/dist-packages (from tensorflow==2.4.0) (1.12.1)\n",
            "Requirement already satisfied: h5py~=2.10.0 in /usr/local/lib/python3.7/dist-packages (from tensorflow==2.4.0) (2.10.0)\n",
            "Requirement already satisfied: google-pasta~=0.2 in /usr/local/lib/python3.7/dist-packages (from tensorflow==2.4.0) (0.2.0)\n",
            "Requirement already satisfied: tensorboard-data-server<0.7.0,>=0.6.0 in /usr/local/lib/python3.7/dist-packages (from tensorboard~=2.4->tensorflow==2.4.0) (0.6.1)\n",
            "Requirement already satisfied: werkzeug>=0.11.15 in /usr/local/lib/python3.7/dist-packages (from tensorboard~=2.4->tensorflow==2.4.0) (1.0.1)\n",
            "Requirement already satisfied: requests<3,>=2.21.0 in /usr/local/lib/python3.7/dist-packages (from tensorboard~=2.4->tensorflow==2.4.0) (2.23.0)\n",
            "Requirement already satisfied: google-auth-oauthlib<0.5,>=0.4.1 in /usr/local/lib/python3.7/dist-packages (from tensorboard~=2.4->tensorflow==2.4.0) (0.4.6)\n",
            "Requirement already satisfied: google-auth<2,>=1.6.3 in /usr/local/lib/python3.7/dist-packages (from tensorboard~=2.4->tensorflow==2.4.0) (1.35.0)\n",
            "Requirement already satisfied: setuptools>=41.0.0 in /usr/local/lib/python3.7/dist-packages (from tensorboard~=2.4->tensorflow==2.4.0) (57.4.0)\n",
            "Requirement already satisfied: tensorboard-plugin-wit>=1.6.0 in /usr/local/lib/python3.7/dist-packages (from tensorboard~=2.4->tensorflow==2.4.0) (1.8.0)\n",
            "Requirement already satisfied: markdown>=2.6.8 in /usr/local/lib/python3.7/dist-packages (from tensorboard~=2.4->tensorflow==2.4.0) (3.3.4)\n",
            "Requirement already satisfied: pyasn1-modules>=0.2.1 in /usr/local/lib/python3.7/dist-packages (from google-auth<2,>=1.6.3->tensorboard~=2.4->tensorflow==2.4.0) (0.2.8)\n",
            "Requirement already satisfied: cachetools<5.0,>=2.0.0 in /usr/local/lib/python3.7/dist-packages (from google-auth<2,>=1.6.3->tensorboard~=2.4->tensorflow==2.4.0) (4.2.2)\n",
            "Requirement already satisfied: rsa<5,>=3.1.4 in /usr/local/lib/python3.7/dist-packages (from google-auth<2,>=1.6.3->tensorboard~=2.4->tensorflow==2.4.0) (4.7.2)\n",
            "Requirement already satisfied: requests-oauthlib>=0.7.0 in /usr/local/lib/python3.7/dist-packages (from google-auth-oauthlib<0.5,>=0.4.1->tensorboard~=2.4->tensorflow==2.4.0) (1.3.0)\n",
            "Requirement already satisfied: importlib-metadata in /usr/local/lib/python3.7/dist-packages (from markdown>=2.6.8->tensorboard~=2.4->tensorflow==2.4.0) (4.8.1)\n",
            "Requirement already satisfied: pyasn1<0.5.0,>=0.4.6 in /usr/local/lib/python3.7/dist-packages (from pyasn1-modules>=0.2.1->google-auth<2,>=1.6.3->tensorboard~=2.4->tensorflow==2.4.0) (0.4.8)\n",
            "Requirement already satisfied: chardet<4,>=3.0.2 in /usr/local/lib/python3.7/dist-packages (from requests<3,>=2.21.0->tensorboard~=2.4->tensorflow==2.4.0) (3.0.4)\n",
            "Requirement already satisfied: urllib3!=1.25.0,!=1.25.1,<1.26,>=1.21.1 in /usr/local/lib/python3.7/dist-packages (from requests<3,>=2.21.0->tensorboard~=2.4->tensorflow==2.4.0) (1.24.3)\n",
            "Requirement already satisfied: certifi>=2017.4.17 in /usr/local/lib/python3.7/dist-packages (from requests<3,>=2.21.0->tensorboard~=2.4->tensorflow==2.4.0) (2021.5.30)\n",
            "Requirement already satisfied: idna<3,>=2.5 in /usr/local/lib/python3.7/dist-packages (from requests<3,>=2.21.0->tensorboard~=2.4->tensorflow==2.4.0) (2.10)\n",
            "Requirement already satisfied: oauthlib>=3.0.0 in /usr/local/lib/python3.7/dist-packages (from requests-oauthlib>=0.7.0->google-auth-oauthlib<0.5,>=0.4.1->tensorboard~=2.4->tensorflow==2.4.0) (3.1.1)\n",
            "Requirement already satisfied: zipp>=0.5 in /usr/local/lib/python3.7/dist-packages (from importlib-metadata->markdown>=2.6.8->tensorboard~=2.4->tensorflow==2.4.0) (3.5.0)\n"
          ]
        }
      ]
    },
    {
      "cell_type": "code",
      "metadata": {
        "id": "BLaqvaY0CZ53",
        "colab": {
          "base_uri": "https://localhost:8080/"
        },
        "outputId": "25cae537-c55c-42fe-a8d9-4c10e21756aa"
      },
      "source": [
        "from google.colab import drive\n",
        "drive.mount(\"/content/gdrive\")"
      ],
      "execution_count": 9,
      "outputs": [
        {
          "output_type": "stream",
          "name": "stdout",
          "text": [
            "Drive already mounted at /content/gdrive; to attempt to forcibly remount, call drive.mount(\"/content/gdrive\", force_remount=True).\n"
          ]
        }
      ]
    },
    {
      "cell_type": "code",
      "metadata": {
        "id": "yZoq-q3iBQO5",
        "colab": {
          "base_uri": "https://localhost:8080/",
          "height": 204
        },
        "outputId": "270f8a5e-78b4-4184-a118-21150376dc8f"
      },
      "source": [
        "# data file\n",
        "df = pd.read_csv('/content/gdrive/My Drive/Colab Notebooks/lyrics_gen/lyrics-dataset.csv')\n",
        "df.head()"
      ],
      "execution_count": 10,
      "outputs": [
        {
          "output_type": "execute_result",
          "data": {
            "text/html": [
              "<div>\n",
              "<style scoped>\n",
              "    .dataframe tbody tr th:only-of-type {\n",
              "        vertical-align: middle;\n",
              "    }\n",
              "\n",
              "    .dataframe tbody tr th {\n",
              "        vertical-align: top;\n",
              "    }\n",
              "\n",
              "    .dataframe thead th {\n",
              "        text-align: right;\n",
              "    }\n",
              "</style>\n",
              "<table border=\"1\" class=\"dataframe\">\n",
              "  <thead>\n",
              "    <tr style=\"text-align: right;\">\n",
              "      <th></th>\n",
              "      <th>ALink</th>\n",
              "      <th>SName</th>\n",
              "      <th>SLink</th>\n",
              "      <th>Lyric</th>\n",
              "      <th>Idiom</th>\n",
              "    </tr>\n",
              "  </thead>\n",
              "  <tbody>\n",
              "    <tr>\n",
              "      <th>0</th>\n",
              "      <td>/10000-maniacs/</td>\n",
              "      <td>More Than This</td>\n",
              "      <td>/10000-maniacs/more-than-this.html</td>\n",
              "      <td>I could feel at the time. There was no way of ...</td>\n",
              "      <td>ENGLISH</td>\n",
              "    </tr>\n",
              "    <tr>\n",
              "      <th>1</th>\n",
              "      <td>/10000-maniacs/</td>\n",
              "      <td>Because The Night</td>\n",
              "      <td>/10000-maniacs/because-the-night.html</td>\n",
              "      <td>Take me now, baby, here as I am. Hold me close...</td>\n",
              "      <td>ENGLISH</td>\n",
              "    </tr>\n",
              "    <tr>\n",
              "      <th>2</th>\n",
              "      <td>/10000-maniacs/</td>\n",
              "      <td>These Are Days</td>\n",
              "      <td>/10000-maniacs/these-are-days.html</td>\n",
              "      <td>These are. These are days you'll remember. Nev...</td>\n",
              "      <td>ENGLISH</td>\n",
              "    </tr>\n",
              "    <tr>\n",
              "      <th>3</th>\n",
              "      <td>/10000-maniacs/</td>\n",
              "      <td>A Campfire Song</td>\n",
              "      <td>/10000-maniacs/a-campfire-song.html</td>\n",
              "      <td>A lie to say, \"O my mountain has coal veins an...</td>\n",
              "      <td>ENGLISH</td>\n",
              "    </tr>\n",
              "    <tr>\n",
              "      <th>4</th>\n",
              "      <td>/10000-maniacs/</td>\n",
              "      <td>Everyday Is Like Sunday</td>\n",
              "      <td>/10000-maniacs/everyday-is-like-sunday.html</td>\n",
              "      <td>Trudging slowly over wet sand. Back to the ben...</td>\n",
              "      <td>ENGLISH</td>\n",
              "    </tr>\n",
              "  </tbody>\n",
              "</table>\n",
              "</div>"
            ],
            "text/plain": [
              "             ALink  ...    Idiom\n",
              "0  /10000-maniacs/  ...  ENGLISH\n",
              "1  /10000-maniacs/  ...  ENGLISH\n",
              "2  /10000-maniacs/  ...  ENGLISH\n",
              "3  /10000-maniacs/  ...  ENGLISH\n",
              "4  /10000-maniacs/  ...  ENGLISH\n",
              "\n",
              "[5 rows x 5 columns]"
            ]
          },
          "metadata": {},
          "execution_count": 10
        }
      ]
    },
    {
      "cell_type": "code",
      "metadata": {
        "id": "vd2dliZ7BQO6"
      },
      "source": [
        "df.drop(['ALink','SName','SLink'],axis=1,inplace=True)"
      ],
      "execution_count": 11,
      "outputs": []
    },
    {
      "cell_type": "code",
      "metadata": {
        "id": "emteDg9RBQO6"
      },
      "source": [
        "# english songs only\n",
        "df = df[df['Idiom']=='ENGLISH']"
      ],
      "execution_count": 12,
      "outputs": []
    },
    {
      "cell_type": "code",
      "metadata": {
        "id": "v27y15S5BQO7",
        "colab": {
          "base_uri": "https://localhost:8080/"
        },
        "outputId": "c0b47ba1-8adc-42a9-ff4f-866971c9d3f7"
      },
      "source": [
        "df.shape"
      ],
      "execution_count": 13,
      "outputs": [
        {
          "output_type": "execute_result",
          "data": {
            "text/plain": [
              "(114723, 2)"
            ]
          },
          "metadata": {},
          "execution_count": 13
        }
      ]
    },
    {
      "cell_type": "code",
      "metadata": {
        "id": "uHkuqBmSBQO8",
        "colab": {
          "base_uri": "https://localhost:8080/"
        },
        "outputId": "c79b0b97-31f9-4dff-b8ac-21128214916f"
      },
      "source": [
        "df = df[:80]\n",
        "df.shape"
      ],
      "execution_count": 14,
      "outputs": [
        {
          "output_type": "execute_result",
          "data": {
            "text/plain": [
              "(80, 2)"
            ]
          },
          "metadata": {},
          "execution_count": 14
        }
      ]
    },
    {
      "cell_type": "code",
      "metadata": {
        "id": "YMVp-91fBQO8",
        "colab": {
          "base_uri": "https://localhost:8080/",
          "height": 204
        },
        "outputId": "5f09d35e-2cf6-45f4-e272-39879a79b2bc"
      },
      "source": [
        "df['Number_of_words'] = df['Lyric'].apply(lambda x:len(str(x).split()))\n",
        "df.head()"
      ],
      "execution_count": 15,
      "outputs": [
        {
          "output_type": "execute_result",
          "data": {
            "text/html": [
              "<div>\n",
              "<style scoped>\n",
              "    .dataframe tbody tr th:only-of-type {\n",
              "        vertical-align: middle;\n",
              "    }\n",
              "\n",
              "    .dataframe tbody tr th {\n",
              "        vertical-align: top;\n",
              "    }\n",
              "\n",
              "    .dataframe thead th {\n",
              "        text-align: right;\n",
              "    }\n",
              "</style>\n",
              "<table border=\"1\" class=\"dataframe\">\n",
              "  <thead>\n",
              "    <tr style=\"text-align: right;\">\n",
              "      <th></th>\n",
              "      <th>Lyric</th>\n",
              "      <th>Idiom</th>\n",
              "      <th>Number_of_words</th>\n",
              "    </tr>\n",
              "  </thead>\n",
              "  <tbody>\n",
              "    <tr>\n",
              "      <th>0</th>\n",
              "      <td>I could feel at the time. There was no way of ...</td>\n",
              "      <td>ENGLISH</td>\n",
              "      <td>145</td>\n",
              "    </tr>\n",
              "    <tr>\n",
              "      <th>1</th>\n",
              "      <td>Take me now, baby, here as I am. Hold me close...</td>\n",
              "      <td>ENGLISH</td>\n",
              "      <td>238</td>\n",
              "    </tr>\n",
              "    <tr>\n",
              "      <th>2</th>\n",
              "      <td>These are. These are days you'll remember. Nev...</td>\n",
              "      <td>ENGLISH</td>\n",
              "      <td>172</td>\n",
              "    </tr>\n",
              "    <tr>\n",
              "      <th>3</th>\n",
              "      <td>A lie to say, \"O my mountain has coal veins an...</td>\n",
              "      <td>ENGLISH</td>\n",
              "      <td>263</td>\n",
              "    </tr>\n",
              "    <tr>\n",
              "      <th>4</th>\n",
              "      <td>Trudging slowly over wet sand. Back to the ben...</td>\n",
              "      <td>ENGLISH</td>\n",
              "      <td>118</td>\n",
              "    </tr>\n",
              "  </tbody>\n",
              "</table>\n",
              "</div>"
            ],
            "text/plain": [
              "                                               Lyric    Idiom  Number_of_words\n",
              "0  I could feel at the time. There was no way of ...  ENGLISH              145\n",
              "1  Take me now, baby, here as I am. Hold me close...  ENGLISH              238\n",
              "2  These are. These are days you'll remember. Nev...  ENGLISH              172\n",
              "3  A lie to say, \"O my mountain has coal veins an...  ENGLISH              263\n",
              "4  Trudging slowly over wet sand. Back to the ben...  ENGLISH              118"
            ]
          },
          "metadata": {},
          "execution_count": 15
        }
      ]
    },
    {
      "cell_type": "code",
      "metadata": {
        "id": "WngGH8o3BQO9",
        "colab": {
          "base_uri": "https://localhost:8080/"
        },
        "outputId": "43519ef6-67a2-457e-8351-bca3508a2373"
      },
      "source": [
        "df['Number_of_words'].describe()"
      ],
      "execution_count": 16,
      "outputs": [
        {
          "output_type": "execute_result",
          "data": {
            "text/plain": [
              "count     80.000000\n",
              "mean     196.850000\n",
              "std       69.531361\n",
              "min       66.000000\n",
              "25%      145.000000\n",
              "50%      186.000000\n",
              "75%      246.000000\n",
              "max      415.000000\n",
              "Name: Number_of_words, dtype: float64"
            ]
          },
          "metadata": {},
          "execution_count": 16
        }
      ]
    },
    {
      "cell_type": "code",
      "metadata": {
        "id": "5S0NvBVhBQO-",
        "colab": {
          "base_uri": "https://localhost:8080/",
          "height": 485
        },
        "outputId": "a88fde0a-6ddc-4f7a-8409-07d16137986e"
      },
      "source": [
        "import matplotlib.pyplot as plt\n",
        "plt.style.use('ggplot')\n",
        "plt.figure(figsize=(12,6))\n",
        "sns.distplot(df['Number_of_words'],kde = False,color=\"red\",bins=200)\n",
        "plt.title(\"Frequency distribution of number of words for each text extracted\", size=20)"
      ],
      "execution_count": 17,
      "outputs": [
        {
          "output_type": "stream",
          "name": "stderr",
          "text": [
            "/usr/local/lib/python3.7/dist-packages/seaborn/distributions.py:2619: FutureWarning: `distplot` is a deprecated function and will be removed in a future version. Please adapt your code to use either `displot` (a figure-level function with similar flexibility) or `histplot` (an axes-level function for histograms).\n",
            "  warnings.warn(msg, FutureWarning)\n"
          ]
        },
        {
          "output_type": "execute_result",
          "data": {
            "text/plain": [
              "Text(0.5, 1.0, 'Frequency distribution of number of words for each text extracted')"
            ]
          },
          "metadata": {},
          "execution_count": 17
        },
        {
          "output_type": "display_data",
          "data": {
            "image/png": "[encoded data removed]",
            "text/plain": [
              "<Figure size 864x432 with 1 Axes>"
            ]
          },
          "metadata": {}
        }
      ]
    },
    {
      "cell_type": "code",
      "metadata": {
        "id": "Ar8DHWu9BQO_",
        "colab": {
          "base_uri": "https://localhost:8080/"
        },
        "outputId": "2d9b8ff9-c864-4d7f-cec5-9370db2bc429"
      },
      "source": [
        "# Tokenization\n",
        "tokenizer = Tokenizer()\n",
        "tokenizer.fit_on_texts(df['Lyric'].astype(str).str.lower())\n",
        "\n",
        "total_words = len(tokenizer.word_index)+1\n",
        "tokenized_sentences = tokenizer.texts_to_sequences(df['Lyric'].astype(str))\n",
        "tokenized_sentences[0]"
      ],
      "execution_count": 18,
      "outputs": [
        {
          "output_type": "execute_result",
          "data": {
            "text/plain": [
              "[5,\n",
              " 60,\n",
              " 134,\n",
              " 62,\n",
              " 1,\n",
              " 50,\n",
              " 51,\n",
              " 18,\n",
              " 25,\n",
              " 86,\n",
              " 8,\n",
              " 417,\n",
              " 418,\n",
              " 654,\n",
              " 7,\n",
              " 1,\n",
              " 44,\n",
              " 71,\n",
              " 32,\n",
              " 54,\n",
              " 57,\n",
              " 278,\n",
              " 419,\n",
              " 24,\n",
              " 210,\n",
              " 24,\n",
              " 1,\n",
              " 279,\n",
              " 1511,\n",
              " 900,\n",
              " 188,\n",
              " 1,\n",
              " 189,\n",
              " 16,\n",
              " 1,\n",
              " 245,\n",
              " 141,\n",
              " 25,\n",
              " 86,\n",
              " 8,\n",
              " 655,\n",
              " 82,\n",
              " 106,\n",
              " 41,\n",
              " 6,\n",
              " 33,\n",
              " 78,\n",
              " 160,\n",
              " 82,\n",
              " 106,\n",
              " 41,\n",
              " 87,\n",
              " 11,\n",
              " 52,\n",
              " 507,\n",
              " 82,\n",
              " 106,\n",
              " 41,\n",
              " 6,\n",
              " 33,\n",
              " 78,\n",
              " 160,\n",
              " 15,\n",
              " 18,\n",
              " 656,\n",
              " 9,\n",
              " 2,\n",
              " 211,\n",
              " 51,\n",
              " 18,\n",
              " 25,\n",
              " 86,\n",
              " 8,\n",
              " 417,\n",
              " 35,\n",
              " 2,\n",
              " 344,\n",
              " 7,\n",
              " 1,\n",
              " 44,\n",
              " 71,\n",
              " 32,\n",
              " 54,\n",
              " 57,\n",
              " 345,\n",
              " 420,\n",
              " 25,\n",
              " 246,\n",
              " 7,\n",
              " 1,\n",
              " 83,\n",
              " 346,\n",
              " 47,\n",
              " 900,\n",
              " 188,\n",
              " 1,\n",
              " 189,\n",
              " 16,\n",
              " 1,\n",
              " 245,\n",
              " 141,\n",
              " 25,\n",
              " 86,\n",
              " 8,\n",
              " 655,\n",
              " 82,\n",
              " 106,\n",
              " 41,\n",
              " 6,\n",
              " 33,\n",
              " 78,\n",
              " 160,\n",
              " 82,\n",
              " 106,\n",
              " 41,\n",
              " 87,\n",
              " 11,\n",
              " 52,\n",
              " 507,\n",
              " 82,\n",
              " 106,\n",
              " 41,\n",
              " 6,\n",
              " 33,\n",
              " 78,\n",
              " 160,\n",
              " 82,\n",
              " 106,\n",
              " 41,\n",
              " 6,\n",
              " 33,\n",
              " 78,\n",
              " 160,\n",
              " 82,\n",
              " 106,\n",
              " 41,\n",
              " 87,\n",
              " 11,\n",
              " 52,\n",
              " 507,\n",
              " 82,\n",
              " 106,\n",
              " 41,\n",
              " 78,\n",
              " 160]"
            ]
          },
          "metadata": {},
          "execution_count": 18
        }
      ]
    },
    {
      "cell_type": "code",
      "metadata": {
        "id": "e0M89I7jBQPA"
      },
      "source": [
        "# Slash sequences into n gram sequence\n",
        "input_sequences = list()\n",
        "for i in tokenized_sentences:\n",
        "    for t in range(1, len(i)):\n",
        "        n_gram_sequence = i[:t+1]\n",
        "        input_sequences.append(n_gram_sequence)\n",
        "        \n",
        "# Pre padding\n",
        "max_sequence_len = max([len(x) for x in input_sequences])\n",
        "input_sequences = np.array(pad_sequences(input_sequences, maxlen=max_sequence_len, padding='pre'))"
      ],
      "execution_count": 19,
      "outputs": []
    },
    {
      "cell_type": "code",
      "metadata": {
        "id": "3NgvfITMBQPA"
      },
      "source": [
        "# create predictors and label\n",
        "X, labels = input_sequences[:,:-1],input_sequences[:,-1]\n",
        "y = tf.keras.utils.to_categorical(labels, num_classes=total_words)"
      ],
      "execution_count": 20,
      "outputs": []
    },
    {
      "cell_type": "code",
      "metadata": {
        "id": "1-jToS5aBQPB",
        "colab": {
          "base_uri": "https://localhost:8080/"
        },
        "outputId": "5d0b853c-00f1-4210-b666-d3c5424c6712"
      },
      "source": [
        "# create model\n",
        "from tensorflow.keras import regularizers\n",
        "model = tf.keras.Sequential()\n",
        "model.add(Embedding(total_words, 50, input_length=max_sequence_len-1))# Embedding Layer\n",
        "model.add(Bidirectional(LSTM(250, return_sequences = True)))# An LSTM Layer\n",
        "model.add(Dropout(0.2))# A dropout layer\n",
        "model.add(LSTM(100))# Another LSTM Layer\n",
        "model.add(Dense(total_words/2, activation='relu', kernel_regularizer=regularizers.l2(0.01)))# A Dense Layer including regularizers\n",
        "model.add(Dense(total_words, activation='softmax'))# A Dense Layer)\n",
        "# Pick an optimizer\n",
        "model.compile(loss='categorical_crossentropy', optimizer='adam', metrics=['accuracy'])# Pick a loss function and an optimizer\n",
        "earlystop = EarlyStopping(monitor='loss', min_delta=0, patience=3, verbose=0, mode='auto')\n",
        "\n",
        "print(model.summary())"
      ],
      "execution_count": 71,
      "outputs": [
        {
          "output_type": "stream",
          "name": "stdout",
          "text": [
            "Model: \"sequential_4\"\n",
            "_________________________________________________________________\n",
            "Layer (type)                 Output Shape              Param #   \n",
            "=================================================================\n",
            "embedding_4 (Embedding)      (None, 415, 50)           132100    \n",
            "_________________________________________________________________\n",
            "bidirectional_4 (Bidirection (None, 415, 500)          602000    \n",
            "_________________________________________________________________\n",
            "dropout_4 (Dropout)          (None, 415, 500)          0         \n",
            "_________________________________________________________________\n",
            "lstm_9 (LSTM)                (None, 100)               240400    \n",
            "_________________________________________________________________\n",
            "dense_8 (Dense)              (None, 1321)              133421    \n",
            "_________________________________________________________________\n",
            "dense_9 (Dense)              (None, 2642)              3492724   \n",
            "=================================================================\n",
            "Total params: 4,600,645\n",
            "Trainable params: 4,600,645\n",
            "Non-trainable params: 0\n",
            "_________________________________________________________________\n",
            "None\n"
          ]
        }
      ]
    },
    {
      "cell_type": "code",
      "metadata": {
        "id": "U_q9xTLoBQPC",
        "colab": {
          "base_uri": "https://localhost:8080/"
        },
        "outputId": "cb5e5295-b1d5-4667-c46a-75d7ccf7b4d5"
      },
      "source": [
        "history = model.fit(X, y, epochs=100, verbose=1, callbacks=[earlystop])"
      ],
      "execution_count": 72,
      "outputs": [
        {
          "output_type": "stream",
          "name": "stdout",
          "text": [
            "Epoch 1/100\n",
            "489/489 [==============================] - 149s 294ms/step - loss: 6.6995 - accuracy: 0.0490\n",
            "Epoch 2/100\n",
            "489/489 [==============================] - 143s 293ms/step - loss: 6.2128 - accuracy: 0.0519\n",
            "Epoch 3/100\n",
            "489/489 [==============================] - 143s 293ms/step - loss: 6.0544 - accuracy: 0.0525\n",
            "Epoch 4/100\n",
            "489/489 [==============================] - 144s 294ms/step - loss: 5.9434 - accuracy: 0.0540\n",
            "Epoch 5/100\n",
            "489/489 [==============================] - 143s 293ms/step - loss: 5.8336 - accuracy: 0.0567\n",
            "Epoch 6/100\n",
            "489/489 [==============================] - 143s 293ms/step - loss: 5.7209 - accuracy: 0.0603\n",
            "Epoch 7/100\n",
            "489/489 [==============================] - 143s 293ms/step - loss: 5.5962 - accuracy: 0.0672\n",
            "Epoch 8/100\n",
            "489/489 [==============================] - 143s 293ms/step - loss: 5.4845 - accuracy: 0.0782\n",
            "Epoch 9/100\n",
            "489/489 [==============================] - 144s 294ms/step - loss: 5.3885 - accuracy: 0.0864\n",
            "Epoch 10/100\n",
            "489/489 [==============================] - 144s 294ms/step - loss: 5.3052 - accuracy: 0.0951\n",
            "Epoch 11/100\n",
            "489/489 [==============================] - 144s 294ms/step - loss: 5.2227 - accuracy: 0.1001\n",
            "Epoch 12/100\n",
            "489/489 [==============================] - 144s 294ms/step - loss: 5.1372 - accuracy: 0.1105\n",
            "Epoch 13/100\n",
            "489/489 [==============================] - 144s 294ms/step - loss: 5.0547 - accuracy: 0.1167\n",
            "Epoch 14/100\n",
            "489/489 [==============================] - 144s 294ms/step - loss: 5.0910 - accuracy: 0.1145\n",
            "Epoch 15/100\n",
            "489/489 [==============================] - 144s 294ms/step - loss: 5.1133 - accuracy: 0.1163\n",
            "Epoch 16/100\n",
            "489/489 [==============================] - 144s 294ms/step - loss: 4.9439 - accuracy: 0.1268\n",
            "Epoch 17/100\n",
            "489/489 [==============================] - 144s 294ms/step - loss: 4.8544 - accuracy: 0.1326\n",
            "Epoch 18/100\n",
            "489/489 [==============================] - 144s 295ms/step - loss: 4.7811 - accuracy: 0.1392\n",
            "Epoch 19/100\n",
            "489/489 [==============================] - 144s 294ms/step - loss: 4.7103 - accuracy: 0.1433\n",
            "Epoch 20/100\n",
            "489/489 [==============================] - 144s 294ms/step - loss: 4.6377 - accuracy: 0.1528\n",
            "Epoch 21/100\n",
            "489/489 [==============================] - 144s 295ms/step - loss: 4.5697 - accuracy: 0.1595\n",
            "Epoch 22/100\n",
            "489/489 [==============================] - 144s 294ms/step - loss: 4.4959 - accuracy: 0.1624\n",
            "Epoch 23/100\n",
            "489/489 [==============================] - 144s 294ms/step - loss: 4.4343 - accuracy: 0.1686\n",
            "Epoch 24/100\n",
            "489/489 [==============================] - 144s 294ms/step - loss: 4.3642 - accuracy: 0.1759\n",
            "Epoch 25/100\n",
            "489/489 [==============================] - 144s 295ms/step - loss: 4.2960 - accuracy: 0.1838\n",
            "Epoch 26/100\n",
            "489/489 [==============================] - 144s 295ms/step - loss: 4.2317 - accuracy: 0.1924\n",
            "Epoch 27/100\n",
            "489/489 [==============================] - 144s 294ms/step - loss: 4.1611 - accuracy: 0.2009\n",
            "Epoch 28/100\n",
            "489/489 [==============================] - 144s 294ms/step - loss: 4.1014 - accuracy: 0.2099\n",
            "Epoch 29/100\n",
            "489/489 [==============================] - 144s 295ms/step - loss: 4.0231 - accuracy: 0.2215\n",
            "Epoch 30/100\n",
            "489/489 [==============================] - 143s 293ms/step - loss: 3.9626 - accuracy: 0.2306\n",
            "Epoch 31/100\n",
            "489/489 [==============================] - 143s 293ms/step - loss: 3.8903 - accuracy: 0.2426\n",
            "Epoch 32/100\n",
            "489/489 [==============================] - 143s 292ms/step - loss: 3.8148 - accuracy: 0.2549\n",
            "Epoch 33/100\n",
            "489/489 [==============================] - 143s 293ms/step - loss: 3.7406 - accuracy: 0.2708\n",
            "Epoch 34/100\n",
            "489/489 [==============================] - 143s 293ms/step - loss: 3.6736 - accuracy: 0.2815\n",
            "Epoch 35/100\n",
            "489/489 [==============================] - 143s 293ms/step - loss: 3.6021 - accuracy: 0.2930\n",
            "Epoch 36/100\n",
            "489/489 [==============================] - 143s 293ms/step - loss: 3.5259 - accuracy: 0.3101\n",
            "Epoch 37/100\n",
            "489/489 [==============================] - 143s 293ms/step - loss: 3.4557 - accuracy: 0.3189\n",
            "Epoch 38/100\n",
            "489/489 [==============================] - 143s 293ms/step - loss: 3.3884 - accuracy: 0.3337\n",
            "Epoch 39/100\n",
            "489/489 [==============================] - 143s 293ms/step - loss: 3.3099 - accuracy: 0.3499\n",
            "Epoch 40/100\n",
            "489/489 [==============================] - 143s 293ms/step - loss: 3.2417 - accuracy: 0.3658\n",
            "Epoch 41/100\n",
            "489/489 [==============================] - 143s 293ms/step - loss: 3.1670 - accuracy: 0.3816\n",
            "Epoch 42/100\n",
            "489/489 [==============================] - 143s 293ms/step - loss: 3.0960 - accuracy: 0.3968\n",
            "Epoch 43/100\n",
            "489/489 [==============================] - 143s 293ms/step - loss: 3.0231 - accuracy: 0.4073\n",
            "Epoch 44/100\n",
            "489/489 [==============================] - 143s 293ms/step - loss: 2.9628 - accuracy: 0.4228\n",
            "Epoch 45/100\n",
            "489/489 [==============================] - 143s 293ms/step - loss: 2.8919 - accuracy: 0.4400\n",
            "Epoch 46/100\n",
            "489/489 [==============================] - 144s 294ms/step - loss: 2.8222 - accuracy: 0.4554\n",
            "Epoch 47/100\n",
            "489/489 [==============================] - 144s 295ms/step - loss: 2.7572 - accuracy: 0.4649\n",
            "Epoch 48/100\n",
            "489/489 [==============================] - 144s 295ms/step - loss: 2.6848 - accuracy: 0.4815\n",
            "Epoch 49/100\n",
            "489/489 [==============================] - 144s 294ms/step - loss: 2.6523 - accuracy: 0.4948\n",
            "Epoch 50/100\n",
            "489/489 [==============================] - 143s 293ms/step - loss: 2.5695 - accuracy: 0.5082\n",
            "Epoch 51/100\n",
            "489/489 [==============================] - 143s 293ms/step - loss: 2.4940 - accuracy: 0.5283\n",
            "Epoch 52/100\n",
            "489/489 [==============================] - 143s 293ms/step - loss: 2.4436 - accuracy: 0.5374\n",
            "Epoch 53/100\n",
            "489/489 [==============================] - 143s 293ms/step - loss: 2.3801 - accuracy: 0.5543\n",
            "Epoch 54/100\n",
            "489/489 [==============================] - 143s 293ms/step - loss: 2.3212 - accuracy: 0.5620\n",
            "Epoch 55/100\n",
            "489/489 [==============================] - 143s 293ms/step - loss: 2.2352 - accuracy: 0.5818\n",
            "Epoch 56/100\n",
            "489/489 [==============================] - 144s 294ms/step - loss: 2.1938 - accuracy: 0.5919\n",
            "Epoch 57/100\n",
            "489/489 [==============================] - 144s 294ms/step - loss: 2.1502 - accuracy: 0.6044\n",
            "Epoch 58/100\n",
            "489/489 [==============================] - 144s 293ms/step - loss: 2.1070 - accuracy: 0.6147\n",
            "Epoch 59/100\n",
            "489/489 [==============================] - 144s 294ms/step - loss: 2.0629 - accuracy: 0.6229\n",
            "Epoch 60/100\n",
            "489/489 [==============================] - 143s 293ms/step - loss: 1.9989 - accuracy: 0.6334\n",
            "Epoch 61/100\n",
            "489/489 [==============================] - 144s 294ms/step - loss: 1.9376 - accuracy: 0.6476\n",
            "Epoch 62/100\n",
            "489/489 [==============================] - 144s 294ms/step - loss: 1.8949 - accuracy: 0.6587\n",
            "Epoch 63/100\n",
            "489/489 [==============================] - 144s 294ms/step - loss: 1.8567 - accuracy: 0.6689\n",
            "Epoch 64/100\n",
            "489/489 [==============================] - 144s 294ms/step - loss: 1.8180 - accuracy: 0.6766\n",
            "Epoch 65/100\n",
            "489/489 [==============================] - 144s 294ms/step - loss: 1.7677 - accuracy: 0.6904\n",
            "Epoch 66/100\n",
            "489/489 [==============================] - 144s 294ms/step - loss: 1.7272 - accuracy: 0.7010\n",
            "Epoch 67/100\n",
            "489/489 [==============================] - 144s 294ms/step - loss: 1.6867 - accuracy: 0.7083\n",
            "Epoch 68/100\n",
            "489/489 [==============================] - 144s 294ms/step - loss: 1.6362 - accuracy: 0.7198\n",
            "Epoch 69/100\n",
            "489/489 [==============================] - 144s 294ms/step - loss: 1.6049 - accuracy: 0.7285\n",
            "Epoch 70/100\n",
            "489/489 [==============================] - 143s 293ms/step - loss: 1.5533 - accuracy: 0.7412\n",
            "Epoch 71/100\n",
            "489/489 [==============================] - 143s 293ms/step - loss: 1.5428 - accuracy: 0.7428\n",
            "Epoch 72/100\n",
            "489/489 [==============================] - 143s 293ms/step - loss: 1.4998 - accuracy: 0.7499\n",
            "Epoch 73/100\n",
            "489/489 [==============================] - 143s 293ms/step - loss: 1.4643 - accuracy: 0.7563\n",
            "Epoch 74/100\n",
            "489/489 [==============================] - 143s 292ms/step - loss: 1.4430 - accuracy: 0.7620\n",
            "Epoch 75/100\n",
            "489/489 [==============================] - 143s 293ms/step - loss: 1.4319 - accuracy: 0.7657\n",
            "Epoch 76/100\n",
            "489/489 [==============================] - 143s 293ms/step - loss: 1.3746 - accuracy: 0.7802\n",
            "Epoch 77/100\n",
            "489/489 [==============================] - 143s 293ms/step - loss: 1.3265 - accuracy: 0.7925\n",
            "Epoch 78/100\n",
            "489/489 [==============================] - 144s 294ms/step - loss: 1.2933 - accuracy: 0.7981\n",
            "Epoch 79/100\n",
            "489/489 [==============================] - 144s 294ms/step - loss: 1.2828 - accuracy: 0.8020\n",
            "Epoch 80/100\n",
            "489/489 [==============================] - 144s 294ms/step - loss: 1.2612 - accuracy: 0.8061\n",
            "Epoch 81/100\n",
            "489/489 [==============================] - 144s 294ms/step - loss: 1.2321 - accuracy: 0.8092\n",
            "Epoch 82/100\n",
            "489/489 [==============================] - 144s 294ms/step - loss: 1.2202 - accuracy: 0.8084\n",
            "Epoch 83/100\n",
            "489/489 [==============================] - 143s 293ms/step - loss: 1.2055 - accuracy: 0.8161\n",
            "Epoch 84/100\n",
            "489/489 [==============================] - 143s 293ms/step - loss: 1.1697 - accuracy: 0.8225\n",
            "Epoch 85/100\n",
            "489/489 [==============================] - 143s 293ms/step - loss: 1.1197 - accuracy: 0.8346\n",
            "Epoch 86/100\n",
            "489/489 [==============================] - 143s 293ms/step - loss: 1.1175 - accuracy: 0.8323\n",
            "Epoch 87/100\n",
            "489/489 [==============================] - 143s 293ms/step - loss: 1.1084 - accuracy: 0.8367\n",
            "Epoch 88/100\n",
            "489/489 [==============================] - 143s 293ms/step - loss: 1.0846 - accuracy: 0.8383\n",
            "Epoch 89/100\n",
            "489/489 [==============================] - 143s 293ms/step - loss: 1.0684 - accuracy: 0.8418\n",
            "Epoch 90/100\n",
            "489/489 [==============================] - 144s 294ms/step - loss: 1.0382 - accuracy: 0.8465\n",
            "Epoch 91/100\n",
            "489/489 [==============================] - 145s 297ms/step - loss: 1.0127 - accuracy: 0.8558\n",
            "Epoch 92/100\n",
            "489/489 [==============================] - 145s 297ms/step - loss: 1.0039 - accuracy: 0.8564\n",
            "Epoch 93/100\n",
            "489/489 [==============================] - 146s 298ms/step - loss: 0.9779 - accuracy: 0.8627\n",
            "Epoch 94/100\n",
            "489/489 [==============================] - 145s 297ms/step - loss: 0.9744 - accuracy: 0.8611\n",
            "Epoch 95/100\n",
            "489/489 [==============================] - 145s 297ms/step - loss: 0.9490 - accuracy: 0.8647\n",
            "Epoch 96/100\n",
            "489/489 [==============================] - 145s 297ms/step - loss: 0.9477 - accuracy: 0.8662\n",
            "Epoch 97/100\n",
            "489/489 [==============================] - 145s 297ms/step - loss: 0.9081 - accuracy: 0.8755\n",
            "Epoch 98/100\n",
            "489/489 [==============================] - 145s 297ms/step - loss: 0.8969 - accuracy: 0.8794\n",
            "Epoch 99/100\n",
            "489/489 [==============================] - 144s 295ms/step - loss: 0.8993 - accuracy: 0.8722\n",
            "Epoch 100/100\n",
            "489/489 [==============================] - 144s 294ms/step - loss: 0.8761 - accuracy: 0.8793\n"
          ]
        }
      ]
    },
    {
      "cell_type": "code",
      "metadata": {
        "id": "0YipEvf8BQPC",
        "colab": {
          "base_uri": "https://localhost:8080/",
          "height": 547
        },
        "outputId": "452da011-2914-479e-8cc9-1b2e5389ecca"
      },
      "source": [
        "import matplotlib.pyplot as plt\n",
        "acc = history.history['accuracy']\n",
        "loss = history.history['loss']\n",
        "\n",
        "epochs = range(len(acc))\n",
        "\n",
        "plt.plot(epochs, acc, 'b', label='Training accuracy')\n",
        "plt.title('Training accuracy')\n",
        "\n",
        "plt.figure()\n",
        "\n",
        "plt.plot(epochs, loss, 'b', label='Training Loss')\n",
        "plt.title('Training loss')\n",
        "plt.legend()\n",
        "\n",
        "plt.show()"
      ],
      "execution_count": 73,
      "outputs": [
        {
          "output_type": "display_data",
          "data": {
            "image/png": "[encoded data removed]",
            "text/plain": [
              "<Figure size 432x288 with 1 Axes>"
            ]
          },
          "metadata": {}
        },
        {
          "output_type": "display_data",
          "data": {
            "image/png": "[encoded data removed]",
            "text/plain": [
              "<Figure size 432x288 with 1 Axes>"
            ]
          },
          "metadata": {}
        }
      ]
    },
    {
      "cell_type": "code",
      "metadata": {
        "id": "Li699KsLFZQ8"
      },
      "source": [
        "# save model\n",
        "from tensorflow.keras.models import load_model\n",
        "model.save('/content/gdrive/My Drive/Colab Notebooks/lyrics_gen/song_lyrics_generator.h5')"
      ],
      "execution_count": 96,
      "outputs": []
    },
    {
      "cell_type": "code",
      "metadata": {
        "id": "Pmw01ZAGGAbZ"
      },
      "source": [
        "from tensorflow.keras.models import load_model\n",
        "model = load_model('/content/gdrive/My Drive/Colab Notebooks/lyrics_gen/song_lyrics_generator.h5')"
      ],
      "execution_count": 4,
      "outputs": []
    },
    {
      "cell_type": "code",
      "metadata": {
        "id": "_caARAmbFOxS"
      },
      "source": [
        "def generate_lyrics(seed_text, next_words):\n",
        "    for _ in range(next_words):\n",
        "        token_list = tokenizer.texts_to_sequences([seed_text])[0]\n",
        "        token_list = pad_sequences([token_list], maxlen=max_sequence_len-1, padding='pre')\n",
        "        predicted = model.predict_classes(token_list, verbose=0)\n",
        "        \n",
        "        output_word = \"\"\n",
        "        for word, index in tokenizer.word_index.items():\n",
        "            if index == predicted:\n",
        "                output_word = word\n",
        "                break\n",
        "        seed_text += \" \" + output_word\n",
        "    return seed_text"
      ],
      "execution_count": 29,
      "outputs": []
    },
    {
      "cell_type": "code",
      "metadata": {
        "id": "qd1c-WE9JH5A"
      },
      "source": [
        "# import warnings\n",
        "# warnings.filterwarnings('ignore')"
      ],
      "execution_count": 32,
      "outputs": []
    },
    {
      "cell_type": "code",
      "metadata": {
        "colab": {
          "base_uri": "https://localhost:8080/",
          "height": 107
        },
        "id": "KBbDeWTeFTT6",
        "outputId": "a7b447b3-c992-4fb4-87ae-46b419487c6b"
      },
      "source": [
        "generate_lyrics(\"The sun is the same in a relative way but you're older\", 40)"
      ],
      "execution_count": 33,
      "outputs": [
        {
          "output_type": "execute_result",
          "data": {
            "application/vnd.google.colaboratory.intrinsic+json": {
              "type": "string"
            },
            "text/plain": [
              "\"The sun is the same in a relative way but you're older in game how i wish i knew dallas as a circle i dreamed of a circle round and in that circle i could see into all a circle i dreamed of a circle round and in that circle i could see into all a circle i dreamed of a circle round and in that circle i could see into all a circle i dreamed of a circle round and in that circle i could see into all a circle i dreamed of a circle round and in that circle i could see into all a circle i dreamed of a circle round and in that circle i could see into all a circle i dreamed of a circle round and in that circle i could see into all a circle i dreamed of a circle round and in that circle\""
            ]
          },
          "metadata": {},
          "execution_count": 33
        }
      ]
    },
    {
      "cell_type": "code",
      "metadata": {
        "colab": {
          "base_uri": "https://localhost:8080/",
          "height": 89
        },
        "id": "-6K6O5NyFTZ4",
        "outputId": "da27bd78-1985-49b0-8fa0-57d950cf1635"
      },
      "source": [
        "generate_lyrics(\"When I was a child\", 100)"
      ],
      "execution_count": 34,
      "outputs": [
        {
          "output_type": "execute_result",
          "data": {
            "application/vnd.google.colaboratory.intrinsic+json": {
              "type": "string"
            },
            "text/plain": [
              "\"When I was a child that the man who's wanna turn it but above music will see amuse you'd go anything oh somewhere in disguise a boy in the dark voice you're dragging from powdered soils and cry no second placers no smart looking geese in bonnets dance with pigs in high button trousers no milk pail for the city me and loretta liked an ocean tide and young girl in a comical where's the end parade of the sort people here would think unusual jenny tonight upon the mock brine of a luna sea far off we sail on to back o' the moon\""
            ]
          },
          "metadata": {},
          "execution_count": 34
        }
      ]
    },
    {
      "cell_type": "code",
      "metadata": {
        "colab": {
          "base_uri": "https://localhost:8080/",
          "height": 107
        },
        "id": "CYYlScZ2FTcT",
        "outputId": "eb62a68b-5815-4538-ded7-3b77d7855ba5"
      },
      "source": [
        "generate_lyrics(\"I don't love you\", 150)"
      ],
      "execution_count": 35,
      "outputs": [
        {
          "output_type": "execute_result",
          "data": {
            "application/vnd.google.colaboratory.intrinsic+json": {
              "type": "string"
            },
            "text/plain": [
              "\"I don't love you before you back up in the sort people here would think unusual jenny tonight upon the mock brine of a luna sea far off we sail on to the demented choirs the wailing of shells the boys holding candles on untraveled roads the boys are starting in the dawning tell me the part that shines in your heart and the rays of love forever please take me there as how like well a saint they made you you're just like mary down in mexico on all souls' day you chose your words from mouths of babes lost in the world the cool junk booting madmen street minded girls in harlem howling at night what a tear stained shock of the world you've gone away without saying goodbye by the cemetery ground as we god's acre is a fenced in hollow ground here soon to rise up amelia tender and sweet\""
            ]
          },
          "metadata": {},
          "execution_count": 35
        }
      ]
    },
    {
      "cell_type": "code",
      "metadata": {
        "colab": {
          "base_uri": "https://localhost:8080/",
          "height": 71
        },
        "id": "24DMyZgSFTfN",
        "outputId": "0e4451df-911d-42f1-bb27-f7608a33aa28"
      },
      "source": [
        "generate_lyrics(\"You shall go where I cannot\", 60)"
      ],
      "execution_count": 36,
      "outputs": [
        {
          "output_type": "execute_result",
          "data": {
            "application/vnd.google.colaboratory.intrinsic+json": {
              "type": "string"
            },
            "text/plain": [
              "\"You shall go where I cannot read to show this lonesome shall spaces like so no jack or kill what their feet come her fingers she overturned it considered planting some flowers they wouldn't last long no one to tend them it's funny how these things go you were the sun well the bodies wracked while their lots and you can cut the dread and oftimes\""
            ]
          },
          "metadata": {},
          "execution_count": 36
        }
      ]
    },
    {
      "cell_type": "code",
      "metadata": {
        "colab": {
          "base_uri": "https://localhost:8080/",
          "height": 71
        },
        "id": "621I7m0SKJ4z",
        "outputId": "3a807ec4-8edc-4f7a-f63c-ec9c12c5d930"
      },
      "source": [
        "generate_lyrics(\"The is the end\", 100)"
      ],
      "execution_count": 37,
      "outputs": [
        {
          "output_type": "execute_result",
          "data": {
            "application/vnd.google.colaboratory.intrinsic+json": {
              "type": "string"
            },
            "text/plain": [
              "\"The is the end lost on a berry that grown you close my man was not with minds that earn degrees the air tossing back more than your share you talk talk talk about it you talk as if you care i'm marking every word and can tell this time for sure your talk is the finest i have heard so don't talk i'll be sleeping let me go on dreaming how your eyes they glow so fiercely i can tell your inspired by the name you just chose for me now what was it o never mind it we will talk talk talk\""
            ]
          },
          "metadata": {},
          "execution_count": 37
        }
      ]
    },
    {
      "cell_type": "code",
      "metadata": {
        "id": "g_19Cq-cIGSN"
      },
      "source": [
        ""
      ],
      "execution_count": null,
      "outputs": []
    }
  ]
}